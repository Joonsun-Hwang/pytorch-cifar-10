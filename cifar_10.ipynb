{
  "nbformat": 4,
  "nbformat_minor": 0,
  "metadata": {
    "colab": {
      "name": "cifar_10.ipynb",
      "version": "0.3.2",
      "views": {},
      "default_view": {},
      "provenance": [],
      "collapsed_sections": []
    },
    "kernelspec": {
      "name": "python3",
      "display_name": "Python 3"
    },
    "accelerator": "GPU"
  },
  "cells": [
    {
      "metadata": {
        "id": "2ZjtMhSxKpRU",
        "colab_type": "code",
        "colab": {
          "autoexec": {
            "startup": false,
            "wait_interval": 0
          },
          "base_uri": "https://localhost:8080/",
          "height": 102
        },
        "outputId": "83bb4590-70d7-4fa9-c55c-9396eb8a20a1",
        "executionInfo": {
          "status": "ok",
          "timestamp": 1528639834700,
          "user_tz": -540,
          "elapsed": 9469,
          "user": {
            "displayName": "황준선",
            "photoUrl": "https://lh3.googleusercontent.com/a/default-user=s128",
            "userId": "117751437022224518351"
          }
        }
      },
      "cell_type": "code",
      "source": [
        "!pip install --upgrade torch torchvision\n",
        "!pip install -U -q PyDrive\n",
        "\n",
        "!rm ./checkpoint/ckpt.t7"
      ],
      "execution_count": 1,
      "outputs": [
        {
          "output_type": "stream",
          "text": [
            "Requirement already up-to-date: torch in /usr/local/lib/python3.6/dist-packages (0.4.0)\r\n",
            "Requirement already up-to-date: torchvision in /usr/local/lib/python3.6/dist-packages (0.2.1)\n",
            "Requirement not upgraded as not directly required: pillow>=4.1.1 in /usr/local/lib/python3.6/dist-packages (from torchvision) (5.1.0)\n",
            "Requirement not upgraded as not directly required: numpy in /usr/local/lib/python3.6/dist-packages (from torchvision) (1.14.3)\n",
            "Requirement not upgraded as not directly required: six in /usr/local/lib/python3.6/dist-packages (from torchvision) (1.11.0)\n"
          ],
          "name": "stdout"
        }
      ]
    },
    {
      "metadata": {
        "id": "2HLQiumqQWfY",
        "colab_type": "code",
        "colab": {
          "autoexec": {
            "startup": false,
            "wait_interval": 0
          },
          "base_uri": "https://localhost:8080/",
          "height": 34
        },
        "outputId": "0b252078-f61c-404d-cee2-b9ad58e39ca4",
        "executionInfo": {
          "status": "ok",
          "timestamp": 1528639835612,
          "user_tz": -540,
          "elapsed": 888,
          "user": {
            "displayName": "황준선",
            "photoUrl": "https://lh3.googleusercontent.com/a/default-user=s128",
            "userId": "117751437022224518351"
          }
        }
      },
      "cell_type": "code",
      "source": [
        "import time\n",
        "import os\n",
        "\n",
        "import torch\n",
        "import torch.nn as nn\n",
        "import torch.optim as optim\n",
        "import torch.backends.cudnn as cudnn\n",
        "import torch.nn.functional as F\n",
        "from torch.autograd import Variable\n",
        "from torchvision import datasets, transforms\n",
        "\n",
        "from pydrive.auth import GoogleAuth\n",
        "from pydrive.drive import GoogleDrive\n",
        "from google.colab import auth\n",
        "from google.colab import files\n",
        "from oauth2client.client import GoogleCredentials\n",
        "\n",
        "print(torch.__version__)"
      ],
      "execution_count": 2,
      "outputs": [
        {
          "output_type": "stream",
          "text": [
            "0.4.0\n"
          ],
          "name": "stdout"
        }
      ]
    },
    {
      "metadata": {
        "id": "q5zDCXMZRKs0",
        "colab_type": "code",
        "colab": {
          "autoexec": {
            "startup": false,
            "wait_interval": 0
          },
          "base_uri": "https://localhost:8080/",
          "height": 102
        },
        "outputId": "405434f8-3e97-46fa-87ef-614407878265",
        "executionInfo": {
          "status": "ok",
          "timestamp": 1528639852276,
          "user_tz": -540,
          "elapsed": 16602,
          "user": {
            "displayName": "황준선",
            "photoUrl": "https://lh3.googleusercontent.com/a/default-user=s128",
            "userId": "117751437022224518351"
          }
        }
      },
      "cell_type": "code",
      "source": [
        "os.environ[\"CUDA_VISIBLE_DEVICES\"] = '0'\n",
        "\n",
        "is_training = False\n",
        "is_save = False\n",
        "\n",
        "batch_size = 128\n",
        "learning_rate = 0.0001\n",
        "\n",
        "train_loss_list = []\n",
        "train_acc_list = []\n",
        "test_loss_list = []\n",
        "test_acc_list = []\n",
        "\n",
        "best_loss = 100\n",
        "best_acc = 0\n",
        "\n",
        "start_epoch = 0\n",
        "\n",
        "device = 'cuda' if torch.cuda.is_available() else 'cpu'\n",
        "\n",
        "\n",
        "if not os.path.isdir('./checkpoint'):\n",
        "    os.mkdir('./checkpoint')\n",
        "local_download_path = os.path.expanduser('./checkpoint')\n",
        "\n",
        "auth.authenticate_user()\n",
        "gauth = GoogleAuth()\n",
        "gauth.credentials = GoogleCredentials.get_application_default()\n",
        "drive = GoogleDrive(gauth)\n",
        "\n",
        "file_list = drive.ListFile(\n",
        "    {'q': \"'1p7VdRVvtapuSMhavuij8L4J5-0pcAxFX' in parents and trashed = false\"}).GetList()\n",
        "\n",
        "for f in file_list:\n",
        "    # 3. Create & download by id.\n",
        "    print('title: %s, id: %s' % (f['title'], f['id']))\n",
        "    fname = os.path.join(local_download_path, f['title'])\n",
        "    print('downloading to {}'.format(fname))\n",
        "    f_ = drive.CreateFile({'id': f['id']})\n",
        "    f_.GetContentFile(fname)\n",
        "\n",
        "\n",
        "transform_train = transforms.Compose([\n",
        "    transforms.RandomCrop(32, padding=4),\n",
        "    transforms.RandomHorizontalFlip(),\n",
        "    transforms.ToTensor(),\n",
        "    transforms.Normalize((0.4914, 0.4822, 0.4465), (0.2023, 0.1994, 0.2010)),\n",
        "])\n",
        "\n",
        "transform_test = transforms.Compose([\n",
        "    transforms.ToTensor(),\n",
        "transforms.Normalize((0.4914, 0.4822, 0.4465), (0.2023, 0.1994, 0.2010)),\n",
        "])\n",
        "\n",
        "train_dataset = datasets.CIFAR10(root='/content/pytorch/data/cifar10/',\n",
        "                                 train=True,\n",
        "                                 transform=transform_train,\n",
        "                                 download=True)\n",
        "\n",
        "test_dataset = datasets.CIFAR10(root='/content/pytorch/data/cifar10/',\n",
        "                                train=False,\n",
        "                                transform=transform_test)\n",
        "\n",
        "train_loader = torch.utils.data.DataLoader(dataset=train_dataset,\n",
        "                                           batch_size=batch_size,\n",
        "                                           shuffle=True,\n",
        "                                           num_workers=4)\n",
        "\n",
        "test_loader = torch.utils.data.DataLoader(dataset=test_dataset,\n",
        "                                          batch_size=batch_size,\n",
        "                                          shuffle=False,\n",
        "                                          num_workers=4)"
      ],
      "execution_count": 3,
      "outputs": [
        {
          "output_type": "stream",
          "text": [
            "title: ckpt.t7, id: 1eONGS_ssDtY1oG6u7SjbUAdXAQ_akJtx\n",
            "downloading to ./checkpoint/ckpt.t7\n",
            "title: 90ckpt_op.t7, id: 1Ie3PVUUWMVFM_ZgOOio7-Sv_HUxKs5LM\n",
            "downloading to ./checkpoint/90ckpt_op.t7\n",
            "Files already downloaded and verified\n"
          ],
          "name": "stdout"
        }
      ]
    },
    {
      "metadata": {
        "id": "6ZjQtSn3RYZq",
        "colab_type": "code",
        "colab": {
          "autoexec": {
            "startup": false,
            "wait_interval": 0
          },
          "base_uri": "https://localhost:8080/",
          "height": 34
        },
        "outputId": "7445aef5-444f-4de7-dc2c-7b730244fdbf",
        "executionInfo": {
          "status": "ok",
          "timestamp": 1528639857453,
          "user_tz": -540,
          "elapsed": 5152,
          "user": {
            "displayName": "황준선",
            "photoUrl": "https://lh3.googleusercontent.com/a/default-user=s128",
            "userId": "117751437022224518351"
          }
        }
      },
      "cell_type": "code",
      "source": [
        "class Model(nn.Module):\n",
        "    def __init__(self, num_classes=10):\n",
        "        super(Model, self).__init__()\n",
        "        self.features = nn.Sequential(\n",
        "            # layer 1\n",
        "            nn.Conv2d(3, 160, kernel_size=3, padding=1, stride=1),\n",
        "            nn.BatchNorm2d(160),\n",
        "            nn.LeakyReLU(),\n",
        "            nn.FractionalMaxPool2d(kernel_size=2, output_ratio=0.8),\n",
        "            nn.Dropout(p=0.0),\n",
        "            \n",
        "            # layer 2\n",
        "            nn.Conv2d(160, 320, kernel_size=3, padding=1, stride=1),\n",
        "            nn.BatchNorm2d(320),\n",
        "            nn.LeakyReLU(),\n",
        "            nn.FractionalMaxPool2d(kernel_size=2, output_ratio=0.8),\n",
        "            nn.Dropout(p=0.1),\n",
        "            \n",
        "            # layer 3\n",
        "            nn.Conv2d(320, 480, kernel_size=3, padding=1, stride=1),\n",
        "            nn.BatchNorm2d(480),\n",
        "            nn.LeakyReLU(),\n",
        "            nn.FractionalMaxPool2d(kernel_size=2, output_ratio=0.8),\n",
        "            nn.Dropout(p=0.1),\n",
        "            \n",
        "            # layer 4\n",
        "            nn.Conv2d(480, 640, kernel_size=3, padding=1, stride=1),\n",
        "            nn.BatchNorm2d(640),\n",
        "            nn.LeakyReLU(),\n",
        "            nn.FractionalMaxPool2d(kernel_size=2, output_ratio=0.8),\n",
        "            nn.Dropout(p=0.2),\n",
        "            \n",
        "            # layer 5\n",
        "            nn.Conv2d(640, 800, kernel_size=3, padding=1, stride=1),\n",
        "            nn.BatchNorm2d(800),\n",
        "            nn.LeakyReLU(),\n",
        "            nn.FractionalMaxPool2d(kernel_size=2, output_ratio=0.8),\n",
        "            nn.Dropout(p=0.2),\n",
        "            \n",
        "            # layer 6\n",
        "            nn.Conv2d(800, 960, kernel_size=3, padding=1, stride=1),\n",
        "            nn.BatchNorm2d(960),\n",
        "            nn.LeakyReLU(),\n",
        "            nn.FractionalMaxPool2d(kernel_size=2, output_ratio=0.8),\n",
        "            nn.Dropout(p=0.3),\n",
        "            \n",
        "            # layer 7 \n",
        "            nn.Conv2d(960, 1120, kernel_size=3, padding=1, stride=1),\n",
        "            nn.BatchNorm2d(1120),\n",
        "            nn.LeakyReLU(),\n",
        "            nn.FractionalMaxPool2d(kernel_size=2, output_ratio=0.8),\n",
        "            nn.Dropout(p=0.4),\n",
        "            \n",
        "            # layer 8\n",
        "            nn.Conv2d(1120, 1120, kernel_size=3, padding=1, stride=1),\n",
        "            nn.BatchNorm2d(1120),\n",
        "            nn.LeakyReLU(),\n",
        "            nn.Dropout(p=0.5),\n",
        "            \n",
        "            # layer 9\n",
        "            nn.Conv1d(1120, 64, kernel_size=(1, 1), padding=1, stride=1),\n",
        "            nn.BatchNorm2d(64),\n",
        "            nn.LeakyReLU(),\n",
        "            nn.Dropout(p=0.5),\n",
        "        )\n",
        "        # layer 10\n",
        "        self.classifier = nn.Linear(3136, num_classes)\n",
        "\n",
        "    def forward(self, x):\n",
        "        x = self.features(x)\n",
        "        x = x.view(x.size(0), -1)\n",
        "        x = self.classifier(x)\n",
        "        return x\n",
        "\n",
        "def init_weights(m):\n",
        "    if isinstance(m, nn.Conv2d):\n",
        "        nn.init.xavier_uniform_(m.weight)\n",
        "        m.bias.data.fill_(0.01)\n",
        "    elif isinstance(m, nn.BatchNorm2d):\n",
        "        nn.init.constant_(m.weight, 1)\n",
        "        nn.init.constant_(m.bias, 0)\n",
        "\n",
        "model = Model()\n",
        "model.to(device)\n",
        "\n",
        "optimizer = optim.Adam(model.parameters(), lr=learning_rate)\n",
        "criterion = nn.CrossEntropyLoss().cuda()\n",
        "\n",
        "if os.path.isfile('./checkpoint/ckpt.t7'):\n",
        "    print('==> Resuming from checkpoint..')\n",
        "    checkpoint = torch.load('./checkpoint/ckpt.t7')\n",
        "    model.load_state_dict(checkpoint['model'])\n",
        "    optimizer.load_state_dict(checkpoint['optimizer'])\n",
        "    best_acc = checkpoint['acc']\n",
        "    start_epoch = checkpoint['epoch'] + 1\n",
        "    train_loss_list = checkpoint['train_loss_list']\n",
        "    train_acc_list = checkpoint['train_acc_list']\n",
        "    test_loss_list = checkpoint['test_loss_list']\n",
        "    test_acc_list = checkpoint['test_acc_list']\n",
        "else:\n",
        "    model.features.apply(init_weights)"
      ],
      "execution_count": 4,
      "outputs": [
        {
          "output_type": "stream",
          "text": [
            "==> Resuming from checkpoint..\n"
          ],
          "name": "stdout"
        }
      ]
    },
    {
      "metadata": {
        "id": "jHSfh--L_F88",
        "colab_type": "code",
        "colab": {
          "autoexec": {
            "startup": false,
            "wait_interval": 0
          },
          "base_uri": "https://localhost:8080/",
          "height": 34
        },
        "outputId": "ddb52f48-97b3-478d-9a6d-f26182a2f219",
        "executionInfo": {
          "status": "ok",
          "timestamp": 1528639858668,
          "user_tz": -540,
          "elapsed": 1190,
          "user": {
            "displayName": "황준선",
            "photoUrl": "https://lh3.googleusercontent.com/a/default-user=s128",
            "userId": "117751437022224518351"
          }
        }
      },
      "cell_type": "code",
      "source": [
        "if torch.cuda.device_count() > 0:\n",
        "    print(\"USE\", torch.cuda.device_count(), \"GPUs!\")\n",
        "else:\n",
        "    print(\"USE ONLY CPU!\")"
      ],
      "execution_count": 5,
      "outputs": [
        {
          "output_type": "stream",
          "text": [
            "USE 1 GPUs!\n"
          ],
          "name": "stdout"
        }
      ]
    },
    {
      "metadata": {
        "id": "MtzouHB4qCNm",
        "colab_type": "code",
        "colab": {
          "autoexec": {
            "startup": false,
            "wait_interval": 0
          }
        }
      },
      "cell_type": "code",
      "source": [
        "def train(epoch):\n",
        "    model.train()\n",
        "    global train_loss_list\n",
        "    global train_acc_list\n",
        "    train_loss = 0\n",
        "    total = 0\n",
        "    correct = 0\n",
        "    for batch_idx, (data, target) in enumerate(train_loader):\n",
        "        if torch.cuda.is_available():\n",
        "            data, target = Variable(data.cuda()), Variable(target.cuda())\n",
        "        else:\n",
        "            data, target = Variable(data), Variable(target)\n",
        "\n",
        "        optimizer.zero_grad()\n",
        "        output = model(data)\n",
        "        loss = criterion(output, target)\n",
        "        loss.backward()\n",
        "        optimizer.step()\n",
        "\n",
        "        train_loss += loss.item()\n",
        "        _, predicted = torch.max(output.data, 1)\n",
        "        total += target.size(0)\n",
        "        correct += predicted.eq(target.data).cpu().sum()\n",
        "        if batch_idx % 50 == 0:\n",
        "            print('Epoch: {} | Batch_idx: {} |  Loss: ({:.4f}) | Acc: ({:.2f}%) ({}/{})'\n",
        "                  .format(epoch, batch_idx, train_loss/(batch_idx+1), 100.*int(correct)/int(total), correct, total))\n",
        "            \n",
        "    train_loss_list.append(train_loss/(batch_idx+1))\n",
        "    train_acc_list.append(100.*int(correct)/int(total))\n",
        "\n",
        "def test(epoch, is_save):\n",
        "    model.eval()\n",
        "    global best_loss\n",
        "    global best_acc\n",
        "    global train_loss_list\n",
        "    global train_acc_list\n",
        "    global test_loss_list\n",
        "    global test_acc_list\n",
        "    test_loss = 0\n",
        "    correct = 0\n",
        "    total = 0\n",
        "    for batch_idx, (data, target) in enumerate(test_loader):\n",
        "        if torch.cuda.is_available():\n",
        "            data, target = Variable(data.cuda()), Variable(target.cuda())\n",
        "        else:\n",
        "            data, target = Variable(data), Variable(target)\n",
        "\n",
        "        outputs = model(data)\n",
        "        loss = criterion(outputs, target)\n",
        "\n",
        "        test_loss += loss.item()\n",
        "        _, predicted = torch.max(outputs.data, 1)\n",
        "        total += target.size(0)\n",
        "        correct += predicted.eq(target.data).cpu().sum()\n",
        "    print('# TEST : Loss: ({:.4f}) | Acc: ({:.2f}%) ({}/{})'\n",
        "        .format(test_loss/(batch_idx+1), 100.*int(correct)/int(total), correct, total))\n",
        "    \n",
        "    test_loss_list.append(test_loss/(batch_idx+1))\n",
        "    test_acc_list.append(100.*int(correct)/int(total))\n",
        "    \n",
        "    if best_loss > test_loss/(batch_idx+1):\n",
        "        best_loss = test_loss/(batch_idx+1)\n",
        "\n",
        "    if is_save:\n",
        "        print('Saving the model...')\n",
        "        if best_acc < 100.*int(correct)/int(total):\n",
        "            best_acc = 100.*int(correct)/int(total)\n",
        "            state = {\n",
        "                'model': model.state_dict(),\n",
        "                'optimizer' : optimizer.state_dict(),\n",
        "                'acc': best_acc,\n",
        "                'epoch': epoch,\n",
        "                'train_loss_list': train_loss_list,\n",
        "                'train_acc_list': train_acc_list,\n",
        "                'test_loss_list': test_loss_list,\n",
        "                'test_acc_list': test_acc_list,\n",
        "            }\n",
        "            torch.save(state, './checkpoint/ckpt.t7')\n",
        "            upload_file = drive.CreateFile(metadata={\"title\": str(epoch) + \"ckpt_op.t7\"})\n",
        "            upload_file.SetContentFile(os.path.join(local_download_path, 'ckpt.t7'))\n",
        "            upload_file.Upload()\n",
        "        else:\n",
        "            state = {\n",
        "                'model': model.state_dict(),\n",
        "                'optimizer' : optimizer.state_dict(),\n",
        "                'acc': best_acc,\n",
        "                'epoch': epoch,\n",
        "                'train_loss_list': train_loss_list,\n",
        "                'train_acc_list': train_acc_list,\n",
        "                'test_loss_list': test_loss_list,\n",
        "                'test_acc_list': test_acc_list,\n",
        "            }\n",
        "            torch.save(state, './checkpoint/ckpt.t7')\n",
        "            upload_file = drive.CreateFile(metadata={\"title\": str(epoch) + \"ckpt.t7\"})\n",
        "            upload_file.SetContentFile(os.path.join(local_download_path, 'ckpt.t7'))\n",
        "            upload_file.Upload()"
      ],
      "execution_count": 0,
      "outputs": []
    },
    {
      "metadata": {
        "id": "VOcLRWlbqFXK",
        "colab_type": "code",
        "colab": {
          "autoexec": {
            "startup": false,
            "wait_interval": 0
          }
        }
      },
      "cell_type": "code",
      "source": [
        "if is_training:\n",
        "    learning_start_time = time.time()\n",
        "    start_epoch_tmp = start_epoch\n",
        "\n",
        "    for epoch in range(start_epoch_tmp, start_epoch_tmp+4):\n",
        "        epoch_start_time = time.time()\n",
        "        \n",
        "        if epoch > 80:\n",
        "            for param_group in optimizer.param_groups:\n",
        "                param_group['learning_rate'] = learning_rate * 0.4\n",
        "\n",
        "        train(epoch)\n",
        "        test(epoch, is_save)\n",
        "\n",
        "        epoch_time = time.gmtime(time.time()-epoch_start_time)\n",
        "        print('{} mins {} secs for this epoch'.format(epoch_time.tm_min, epoch_time.tm_sec))\n",
        "\n",
        "        start_epoch = epoch+1\n",
        "\n",
        "\n",
        "    learning_time = time.gmtime(time.time() - learning_start_time)\n",
        "    print('{} hours {} mins {} secs for training'.format(learning_time.tm_hour, learning_time.tm_min, learning_time.tm_sec))"
      ],
      "execution_count": 0,
      "outputs": []
    },
    {
      "metadata": {
        "id": "TVUi-u-EhO9i",
        "colab_type": "code",
        "colab": {
          "autoexec": {
            "startup": false,
            "wait_interval": 0
          },
          "base_uri": "https://localhost:8080/",
          "height": 34
        },
        "outputId": "ef8b1843-83b5-4388-c510-3bfdaca8ed29",
        "executionInfo": {
          "status": "ok",
          "timestamp": 1528639861434,
          "user_tz": -540,
          "elapsed": 882,
          "user": {
            "displayName": "황준선",
            "photoUrl": "https://lh3.googleusercontent.com/a/default-user=s128",
            "userId": "117751437022224518351"
          }
        }
      },
      "cell_type": "code",
      "source": [
        "print('The best test accuracy is {:.2f}%'.format(best_acc))"
      ],
      "execution_count": 8,
      "outputs": [
        {
          "output_type": "stream",
          "text": [
            "The best test accuracy is 92.12%\n"
          ],
          "name": "stdout"
        }
      ]
    },
    {
      "metadata": {
        "id": "uKxJqU6iqG6m",
        "colab_type": "code",
        "colab": {
          "autoexec": {
            "startup": false,
            "wait_interval": 0
          },
          "base_uri": "https://localhost:8080/",
          "height": 388
        },
        "outputId": "ce79310c-1a2a-4d3f-ee28-57489d781bbc",
        "executionInfo": {
          "status": "ok",
          "timestamp": 1528639862648,
          "user_tz": -540,
          "elapsed": 1160,
          "user": {
            "displayName": "황준선",
            "photoUrl": "https://lh3.googleusercontent.com/a/default-user=s128",
            "userId": "117751437022224518351"
          }
        }
      },
      "cell_type": "code",
      "source": [
        "import matplotlib.pyplot as plt\n",
        "%matplotlib inline\n",
        "\n",
        "fig, loss_ax = plt.subplots(figsize=(8,6))\n",
        "\n",
        "acc_ax = loss_ax.twinx()\n",
        "\n",
        "loss_ax.plot(train_loss_list, 'y', label='train loss')\n",
        "loss_ax.plot(test_loss_list, 'r', label='test loss')\n",
        "\n",
        "acc_ax.plot(train_acc_list, 'b', label='train acc')\n",
        "acc_ax.plot(test_acc_list, 'g', label='test acc')\n",
        "\n",
        "loss_ax.set_xlabel('epoch')\n",
        "loss_ax.set_ylabel('loss')\n",
        "acc_ax.set_ylabel('accuracy')\n",
        "\n",
        "loss_ax.legend(loc='upper left')\n",
        "acc_ax.legend(loc='lower left')\n",
        "\n",
        "loss_ax.grid(False)\n",
        "acc_ax.grid(False)\n",
        "\n",
        "plt.show()"
      ],
      "execution_count": 9,
      "outputs": [
        {
          "output_type": "display_data",
          "data": {
            "image/png": "[encoded data removed]",
            "text/plain": [
              "<matplotlib.figure.Figure at 0x7fade8a2d6a0>"
            ]
          },
          "metadata": {
            "tags": []
          }
        }
      ]
    },
    {
      "metadata": {
        "id": "y2r8BurHVf3u",
        "colab_type": "code",
        "colab": {
          "autoexec": {
            "startup": false,
            "wait_interval": 0
          }
        }
      },
      "cell_type": "code",
      "source": [
        ""
      ],
      "execution_count": 0,
      "outputs": []
    }
  ]
}